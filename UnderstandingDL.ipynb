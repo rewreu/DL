{
 "cells": [
  {
   "cell_type": "markdown",
   "metadata": {},
   "source": [
    "## implement the network using numpy."
   ]
  },
  {
   "cell_type": "markdown",
   "metadata": {},
   "source": [
    "### Math derivitive"
   ]
  },
  {
   "cell_type": "markdown",
   "metadata": {},
   "source": [
    "$h=\\hat x\\cdot\\omega_1$\n",
    "\n",
    "$h_{relu}=relu(h)$\n",
    "\n",
    "$\\hat y=h_{relu}\\cdot\\omega_2$\n",
    "\n",
    "#### Update $\\omega_2$\n",
    "Loss $L=(\\hat{y}-y)^2$\n",
    "\n",
    "$\\frac{\\partial{L}}{\\partial\\omega_2} = 2(\\hat{y}-y)\\cdot \\frac{\\partial\\hat{y}}{\\partial\\omega_2}$\n",
    "\n",
    "since $\\hat y=h_{relu}\\cdot\\omega_2$\n",
    "\n",
    "$\\frac{\\partial\\hat{y}}{\\partial\\omega_2}=h_{relu}$\n",
    "\n",
    "Now $\\frac{\\partial{L}}{\\partial\\omega_2} = 2 (\\hat y -y)\\cdot \\frac{\\partial\\hat y}{\\partial \\omega_2}= 2 (\\hat y -y)\\cdot h_{relu}$\n",
    "\n",
    "To update the $\\omega_2$, \n",
    "\n",
    "$\\omega_2^*=\\omega_2-\\frac{\\partial{L}}{\\partial\\omega_2}$\n",
    "\n",
    "#### Update $\\omega_1$\n",
    "\n",
    "$\\frac{\\partial L}{\\partial \\omega_1} = \\frac{\\partial L}{\\partial h_{relu}}\\cdot\\frac{\\partial h_{relu}}{\\partial h}\\cdot\\frac{\\partial h}{\\partial \\omega_1}$\n",
    "\n",
    "For $\\frac{\\partial L}{\\partial h_{relu}}= 2(\\hat y -y)\\cdot\\frac{\\partial\\hat y}{\\partial h_{relu}}=2(\\hat y -y)\\cdot\\omega_2$\n",
    "\n",
    "For $\\frac{\\partial h }{\\partial \\omega_1}=\\hat x$\n",
    "\n",
    "As for $\\frac{\\partial h_{relu}}{\\partial h}$, since we are using a relu fuction, $\\frac{\\partial h_{relu}}{\\partial h}$ becomes matrix with elements either 1 or 0. For any location $h_{xy} < 0$,  $\\frac{\\partial h_{relu}}{\\partial h}_{xy}=0$. For any location $h_{xy} >= 0$,  $\\frac{\\partial h_{relu}}{\\partial h}_{xy}=1$. "
   ]
  },
  {
   "cell_type": "code",
   "execution_count": 13,
   "metadata": {},
   "outputs": [],
   "source": [
    "# -*- coding: utf-8 -*-\n",
    "import numpy as np\n",
    "\n",
    "# N is batch size; D_in is input dimension;\n",
    "# H is hidden dimension; D_out is output dimension.\n",
    "N, D_in, H, D_out = 64, 1000, 100, 10\n",
    "\n",
    "# Create random input and output data\n",
    "x = np.random.randn(N, D_in)\n",
    "y = np.random.randn(N, D_out)\n",
    "\n",
    "# Randomly initialize weights\n",
    "w1 = np.random.randn(D_in, H)\n",
    "w2 = np.random.randn(H, D_out)\n",
    "\n",
    "learning_rate = 1e-6\n",
    "for t in range(500):\n",
    "    # Forward pass: compute predicted y\n",
    "    h = x.dot(w1)\n",
    "    h_relu = np.maximum(h, 0)\n",
    "    y_pred = h_relu.dot(w2)\n",
    "\n",
    "    # Compute and print loss\n",
    "    loss = np.square(y_pred - y).sum()\n",
    "    print(t, loss)\n",
    "\n",
    "    # Backprop to compute gradients of w1 and w2 with respect to loss\n",
    "    grad_y_pred = 2.0 * (y_pred - y)\n",
    "    grad_w2 = h_relu.T.dot(grad_y_pred)\n",
    "    grad_h_relu = grad_y_pred.dot(w2.T)\n",
    "    grad_h = grad_h_relu.copy()\n",
    "    grad_h[h < 0] = 0\n",
    "    grad_w1 = x.T.dot(grad_h)\n",
    "\n",
    "    # Update weights\n",
    "    w1 -= learning_rate * grad_w1\n",
    "    w2 -= learning_rate * grad_w2"
   ]
  },
  {
   "cell_type": "markdown",
   "metadata": {},
   "source": [
    "## Same as above with torch"
   ]
  },
  {
   "cell_type": "code",
   "execution_count": 14,
   "metadata": {
    "scrolled": false
   },
   "outputs": [],
   "source": [
    "import torch\n",
    "\n",
    "\n",
    "dtype = torch.FloatTensor\n",
    "# dtype = torch.cuda.FloatTensor # Uncomment this to run on GPU\n",
    "\n",
    "# N is batch size; D_in is input dimension;\n",
    "# H is hidden dimension; D_out is output dimension.\n",
    "N, D_in, H, D_out = 64, 1000, 100, 10\n",
    "\n",
    "# Create random input and output data\n",
    "x = torch.randn(N, D_in).type(dtype)\n",
    "y = torch.randn(N, D_out).type(dtype)\n",
    "\n",
    "# Randomly initialize weights\n",
    "w1 = torch.randn(D_in, H).type(dtype)\n",
    "w2 = torch.randn(H, D_out).type(dtype)\n",
    "\n",
    "learning_rate = 1e-6\n",
    "for t in range(500):\n",
    "    # Forward pass: compute predicted y\n",
    "    h = x.mm(w1)\n",
    "    h_relu = h.clamp(min=0)\n",
    "    y_pred = h_relu.mm(w2)\n",
    "\n",
    "    # Compute and print loss\n",
    "    loss = (y_pred - y).pow(2).sum()\n",
    "    print(t, loss)\n",
    "\n",
    "    # Backprop to compute gradients of w1 and w2 with respect to loss\n",
    "    grad_y_pred = 2.0 * (y_pred - y)\n",
    "    grad_w2 = h_relu.t().mm(grad_y_pred)\n",
    "    grad_h_relu = grad_y_pred.mm(w2.t())\n",
    "    grad_h = grad_h_relu.clone()\n",
    "    grad_h[h < 0] = 0\n",
    "    grad_w1 = x.t().mm(grad_h)\n",
    "\n",
    "    # Update weights using gradient descent\n",
    "    w1 -= learning_rate * grad_w1\n",
    "    w2 -= learning_rate * grad_w2"
   ]
  },
  {
   "cell_type": "code",
   "execution_count": null,
   "metadata": {},
   "outputs": [],
   "source": []
  }
 ],
 "metadata": {
  "kernelspec": {
   "display_name": "Python 3",
   "language": "python",
   "name": "python3"
  },
  "language_info": {
   "codemirror_mode": {
    "name": "ipython",
    "version": 3
   },
   "file_extension": ".py",
   "mimetype": "text/x-python",
   "name": "python",
   "nbconvert_exporter": "python",
   "pygments_lexer": "ipython3",
   "version": "3.6.4"
  }
 },
 "nbformat": 4,
 "nbformat_minor": 2
}
